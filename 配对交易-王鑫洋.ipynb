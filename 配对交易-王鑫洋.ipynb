{
 "cells": [
  {
   "cell_type": "markdown",
   "id": "86d71834",
   "metadata": {},
   "source": [
    "选择合适的两个资产构建配对交易策略，其中两个资产对数价格间的协整关系采用kalman滤波进行估计"
   ]
  },
  {
   "cell_type": "markdown",
   "id": "80acfa69",
   "metadata": {},
   "source": [
    "数据使用期货焦炭和焦煤。"
   ]
  },
  {
   "cell_type": "markdown",
   "id": "536e09f0",
   "metadata": {},
   "source": [
    "Trddt [交易日期] - 以yyyy-mm-dd表示  \n",
    "Agmtcd [合约代码] -   \n",
    "Trdvar [交易品种] -   \n",
    "Fdt001 [交易所代码] - 指期货交易所简写代码DCE=大连交易所、SHFE=上海交易所、CZCE=郑州交易所  \n",
    "Fdt002 [交割期] - 以交易所公布为准  \n",
    "Fdt003 [日开盘价] -   \n",
    "Fdt004 [日最高价] -   \n",
    "Fdt005 [日最低价] -   \n",
    "Fdt006 [日收盘价] -   \n",
    "Fdt007 [日结算价] - 为期货合约成交价格按成交量的加权平均价格，是用以确定保证金帐户每天盈亏的价格。  \n",
    "Fdt010 [成交量] - 指某个期货合约在特定时间内的买卖数量。  \n",
    "Fdt011 [持仓量] - 又称未平仓量，是某种商品期货合约尚未以相反期货交易或实物交割冲销的数量。  \n",
    "Fdt012 [持仓量变化] -   \n",
    "Fdt013 [成交金额] -   "
   ]
  },
  {
   "cell_type": "code",
   "execution_count": 1,
   "id": "14900a85",
   "metadata": {},
   "outputs": [],
   "source": [
    "import numpy as np\n",
    "import pandas as pd\n",
    "import statsmodels.api as sm\n",
    "from arch.unitroot import ADF\n",
    "from statsmodels.tsa.stattools import coint\n",
    "import matplotlib.pyplot as plt"
   ]
  },
  {
   "cell_type": "markdown",
   "id": "9a4d49bc",
   "metadata": {},
   "source": [
    "#### 1 获得焦煤和焦炭数据"
   ]
  },
  {
   "cell_type": "code",
   "execution_count": 2,
   "id": "d96608c5",
   "metadata": {},
   "outputs": [],
   "source": [
    "j_path = '国内期货日交易数据113426157/FUT_Fdt.csv'\n",
    "jm_path = '国内期货日交易数据113254269/FUT_Fdt.csv'\n",
    "\n",
    "jdata = pd.read_csv(j_path)\n",
    "jmdata = pd.read_csv(jm_path)\n",
    "#只考虑主力合约\n",
    "jdata = jdata.sort_values(by=['Trddt','Fdt010'],ascending=[1,0]).groupby('Trddt').head(1)\n",
    "jmdata = jmdata.sort_values(by=['Trddt','Fdt010'],ascending=[1,0]).groupby('Trddt').head(1)\n",
    "#收盘价不能交易，使用开盘价\n",
    "factor = ['Trddt','Agmtcd','Fdt003','Fdt006']\n",
    "newfactor = ['Trddt','Agmtcd','Opnprc','Clsprc']\n",
    "\n",
    "jdata = jdata[factor].reset_index(drop=True)\n",
    "jdata.columns = newfactor\n",
    "jmdata = jmdata[factor].reset_index(drop=True)\n",
    "jmdata.columns = newfactor"
   ]
  },
  {
   "cell_type": "markdown",
   "id": "03aa435e",
   "metadata": {},
   "source": [
    "#### 1.1 价格取对数 "
   ]
  },
  {
   "cell_type": "code",
   "execution_count": 3,
   "id": "0938a64e",
   "metadata": {},
   "outputs": [],
   "source": [
    "jdata['lnprc'] = np.log(jdata['Opnprc'])\n",
    "jmdata['lnprc'] = np.log(jmdata['Opnprc'])"
   ]
  },
  {
   "cell_type": "markdown",
   "id": "1a80b387",
   "metadata": {},
   "source": [
    "#### 1.2 数据整理"
   ]
  },
  {
   "cell_type": "code",
   "execution_count": 4,
   "id": "c2403fc2",
   "metadata": {},
   "outputs": [
    {
     "data": {
      "text/html": [
       "<div>\n",
       "<style scoped>\n",
       "    .dataframe tbody tr th:only-of-type {\n",
       "        vertical-align: middle;\n",
       "    }\n",
       "\n",
       "    .dataframe tbody tr th {\n",
       "        vertical-align: top;\n",
       "    }\n",
       "\n",
       "    .dataframe thead th {\n",
       "        text-align: right;\n",
       "    }\n",
       "</style>\n",
       "<table border=\"1\" class=\"dataframe\">\n",
       "  <thead>\n",
       "    <tr style=\"text-align: right;\">\n",
       "      <th></th>\n",
       "      <th>Fdt_J</th>\n",
       "      <th>Fdt_JM</th>\n",
       "    </tr>\n",
       "    <tr>\n",
       "      <th>Trddt</th>\n",
       "      <th></th>\n",
       "      <th></th>\n",
       "    </tr>\n",
       "  </thead>\n",
       "  <tbody>\n",
       "    <tr>\n",
       "      <th>2013-03-22</th>\n",
       "      <td>7.431892</td>\n",
       "      <td>7.154615</td>\n",
       "    </tr>\n",
       "    <tr>\n",
       "      <th>2013-03-25</th>\n",
       "      <td>7.430707</td>\n",
       "      <td>7.151485</td>\n",
       "    </tr>\n",
       "    <tr>\n",
       "      <th>2013-03-26</th>\n",
       "      <td>7.425358</td>\n",
       "      <td>7.134891</td>\n",
       "    </tr>\n",
       "    <tr>\n",
       "      <th>2013-03-27</th>\n",
       "      <td>7.419381</td>\n",
       "      <td>7.153834</td>\n",
       "    </tr>\n",
       "    <tr>\n",
       "      <th>2013-03-28</th>\n",
       "      <td>7.413367</td>\n",
       "      <td>7.142037</td>\n",
       "    </tr>\n",
       "    <tr>\n",
       "      <th>...</th>\n",
       "      <td>...</td>\n",
       "      <td>...</td>\n",
       "    </tr>\n",
       "    <tr>\n",
       "      <th>2022-11-15</th>\n",
       "      <td>7.903042</td>\n",
       "      <td>7.660585</td>\n",
       "    </tr>\n",
       "    <tr>\n",
       "      <th>2022-11-16</th>\n",
       "      <td>7.915713</td>\n",
       "      <td>7.677864</td>\n",
       "    </tr>\n",
       "    <tr>\n",
       "      <th>2022-11-17</th>\n",
       "      <td>7.935408</td>\n",
       "      <td>7.680176</td>\n",
       "    </tr>\n",
       "    <tr>\n",
       "      <th>2022-11-18</th>\n",
       "      <td>7.929487</td>\n",
       "      <td>7.683404</td>\n",
       "    </tr>\n",
       "    <tr>\n",
       "      <th>2022-11-21</th>\n",
       "      <td>7.931824</td>\n",
       "      <td>7.691657</td>\n",
       "    </tr>\n",
       "  </tbody>\n",
       "</table>\n",
       "<p>2351 rows × 2 columns</p>\n",
       "</div>"
      ],
      "text/plain": [
       "               Fdt_J    Fdt_JM\n",
       "Trddt                         \n",
       "2013-03-22  7.431892  7.154615\n",
       "2013-03-25  7.430707  7.151485\n",
       "2013-03-26  7.425358  7.134891\n",
       "2013-03-27  7.419381  7.153834\n",
       "2013-03-28  7.413367  7.142037\n",
       "...              ...       ...\n",
       "2022-11-15  7.903042  7.660585\n",
       "2022-11-16  7.915713  7.677864\n",
       "2022-11-17  7.935408  7.680176\n",
       "2022-11-18  7.929487  7.683404\n",
       "2022-11-21  7.931824  7.691657\n",
       "\n",
       "[2351 rows x 2 columns]"
      ]
     },
     "execution_count": 4,
     "metadata": {},
     "output_type": "execute_result"
    }
   ],
   "source": [
    "df = jdata.merge(jmdata,on='Trddt')\n",
    "prcdf = df[['Trddt','lnprc_x','lnprc_y']]\n",
    "prcdf.columns = ['Trddt','Fdt_J','Fdt_JM']\n",
    "prcdf = prcdf.set_index('Trddt')\n",
    "prcdf"
   ]
  },
  {
   "cell_type": "code",
   "execution_count": 5,
   "id": "2c7116ff",
   "metadata": {},
   "outputs": [
    {
     "data": {
      "text/plain": [
       "Fdt_J     7.543803\n",
       "Fdt_JM    7.066467\n",
       "Name: 2018-12-28, dtype: float64"
      ]
     },
     "execution_count": 5,
     "metadata": {},
     "output_type": "execute_result"
    }
   ],
   "source": [
    "prcdf.loc['2018-12-28']"
   ]
  },
  {
   "cell_type": "markdown",
   "id": "7add11cc",
   "metadata": {},
   "source": [
    "#### 2 固定beta测试"
   ]
  },
  {
   "cell_type": "code",
   "execution_count": 6,
   "id": "fef3aabf",
   "metadata": {},
   "outputs": [],
   "source": [
    "#区分训练数据和测试数据取固定beta\n",
    "prcdf_train = prcdf.loc[:'2018-12-28']"
   ]
  },
  {
   "cell_type": "code",
   "execution_count": 7,
   "id": "5411f744",
   "metadata": {},
   "outputs": [
    {
     "data": {
      "image/png": "[encoded data removed]",
      "text/plain": [
       "<Figure size 432x288 with 1 Axes>"
      ]
     },
     "metadata": {
      "needs_background": "light"
     },
     "output_type": "display_data"
    }
   ],
   "source": [
    "prcdf_train.plot()\n",
    "plt.show()"
   ]
  },
  {
   "cell_type": "code",
   "execution_count": 8,
   "id": "cc1c3cb8",
   "metadata": {
    "scrolled": true
   },
   "outputs": [
    {
     "name": "stdout",
     "output_type": "stream",
     "text": [
      "   Augmented Dickey-Fuller Results   \n",
      "=====================================\n",
      "Test Statistic                 -1.404\n",
      "P-value                         0.581\n",
      "Lags                               12\n",
      "-------------------------------------\n",
      "\n",
      "Trend: Constant\n",
      "Critical Values: -3.44 (1%), -2.86 (5%), -2.57 (10%)\n",
      "Null Hypothesis: The process contains a unit root.\n",
      "Alternative Hypothesis: The process is weakly stationary.\n",
      "   Augmented Dickey-Fuller Results   \n",
      "=====================================\n",
      "Test Statistic                 -1.352\n",
      "P-value                         0.605\n",
      "Lags                                1\n",
      "-------------------------------------\n",
      "\n",
      "Trend: Constant\n",
      "Critical Values: -3.44 (1%), -2.86 (5%), -2.57 (10%)\n",
      "Null Hypothesis: The process contains a unit root.\n",
      "Alternative Hypothesis: The process is weakly stationary.\n"
     ]
    }
   ],
   "source": [
    "#序列平稳性检验\n",
    "print(ADF(prcdf_train['Fdt_J']))\n",
    "print(ADF(prcdf_train['Fdt_JM']))"
   ]
  },
  {
   "cell_type": "markdown",
   "id": "6607719e",
   "metadata": {},
   "source": [
    "均不拒绝零假设，不平稳"
   ]
  },
  {
   "cell_type": "markdown",
   "id": "1186006f",
   "metadata": {},
   "source": [
    "#### 2.1 协整检验"
   ]
  },
  {
   "cell_type": "code",
   "execution_count": 9,
   "id": "92370b22",
   "metadata": {
    "scrolled": false
   },
   "outputs": [
    {
     "name": "stdout",
     "output_type": "stream",
     "text": [
      "coint_t: -3.129544420938852\n",
      "pvalue: 0.08252161740908637\n",
      "crit_value:\n",
      " [1%] -3.9042408022129176 \n",
      " [5%] -3.3404760904938198 \n",
      " [10%] -3.047465730768434\n"
     ]
    }
   ],
   "source": [
    "#使用coint函数\n",
    "result = coint(prcdf_train['Fdt_J'],prcdf_train['Fdt_JM'],trend='c',method='aeg')\n",
    "print('coint_t:',result[0])\n",
    "print('pvalue:',result[1])\n",
    "print('crit_value:\\n',\\\n",
    "      '[1%]',result[2][0],'\\n',\\\n",
    "      '[5%]',result[2][1],'\\n',\\\n",
    "     '[10%]',result[2][2])"
   ]
  },
  {
   "cell_type": "code",
   "execution_count": 10,
   "id": "1c5a8e10",
   "metadata": {},
   "outputs": [
    {
     "name": "stdout",
     "output_type": "stream",
     "text": [
      "                            OLS Regression Results                            \n",
      "==============================================================================\n",
      "Dep. Variable:                  Fdt_J   R-squared:                       0.954\n",
      "Model:                            OLS   Adj. R-squared:                  0.954\n",
      "Method:                 Least Squares   F-statistic:                 2.927e+04\n",
      "Date:                Thu, 24 Nov 2022   Prob (F-statistic):               0.00\n",
      "Time:                        20:44:42   Log-Likelihood:                 1552.8\n",
      "No. Observations:                1408   AIC:                            -3102.\n",
      "Df Residuals:                    1406   BIC:                            -3091.\n",
      "Df Model:                           1                                         \n",
      "Covariance Type:            nonrobust                                         \n",
      "==============================================================================\n",
      "                 coef    std err          t      P>|t|      [0.025      0.975]\n",
      "------------------------------------------------------------------------------\n",
      "const         -1.2644      0.050    -25.517      0.000      -1.362      -1.167\n",
      "Fdt_JM         1.2369      0.007    171.077      0.000       1.223       1.251\n",
      "==============================================================================\n",
      "Omnibus:                       61.922   Durbin-Watson:                   0.050\n",
      "Prob(Omnibus):                  0.000   Jarque-Bera (JB):               87.711\n",
      "Skew:                           0.407   Prob(JB):                     8.99e-20\n",
      "Kurtosis:                       3.912   Cond. No.                         162.\n",
      "==============================================================================\n",
      "\n",
      "Notes:\n",
      "[1] Standard Errors assume that the covariance matrix of the errors is correctly specified.\n",
      "   Augmented Dickey-Fuller Results   \n",
      "=====================================\n",
      "Test Statistic                 -3.130\n",
      "P-value                         0.024\n",
      "Lags                                8\n",
      "-------------------------------------\n",
      "\n",
      "Trend: Constant\n",
      "Critical Values: -3.44 (1%), -2.86 (5%), -2.57 (10%)\n",
      "Null Hypothesis: The process contains a unit root.\n",
      "Alternative Hypothesis: The process is weakly stationary.\n"
     ]
    }
   ],
   "source": [
    "#一元线性回归\n",
    "reg = sm.OLS(prcdf_train['Fdt_J'], sm.add_constant(prcdf_train['Fdt_JM'])).fit()\n",
    "print(reg.summary())\n",
    "\n",
    "alpha = reg.params[0]\n",
    "beta = reg.params[1]\n",
    "residual = prcdf_train['Fdt_J'] - beta * prcdf_train['Fdt_JM'] - alpha\n",
    "#检验平稳性\n",
    "print(ADF(residual))"
   ]
  },
  {
   "cell_type": "markdown",
   "id": "8ef924b6",
   "metadata": {},
   "source": [
    "在训练数据上协整，尝试包含测试数据效果。"
   ]
  },
  {
   "cell_type": "code",
   "execution_count": 11,
   "id": "6b5a5461",
   "metadata": {},
   "outputs": [
    {
     "data": {
      "image/png": "[encoded data removed]",
      "text/plain": [
       "<Figure size 432x288 with 1 Axes>"
      ]
     },
     "metadata": {
      "needs_background": "light"
     },
     "output_type": "display_data"
    },
    {
     "name": "stdout",
     "output_type": "stream",
     "text": [
      "   Augmented Dickey-Fuller Results   \n",
      "=====================================\n",
      "Test Statistic                 -2.546\n",
      "P-value                         0.105\n",
      "Lags                                3\n",
      "-------------------------------------\n",
      "\n",
      "Trend: Constant\n",
      "Critical Values: -3.43 (1%), -2.86 (5%), -2.57 (10%)\n",
      "Null Hypothesis: The process contains a unit root.\n",
      "Alternative Hypothesis: The process is weakly stationary.\n",
      "   Augmented Dickey-Fuller Results   \n",
      "=====================================\n",
      "Test Statistic                 -1.557\n",
      "P-value                         0.505\n",
      "Lags                                7\n",
      "-------------------------------------\n",
      "\n",
      "Trend: Constant\n",
      "Critical Values: -3.44 (1%), -2.86 (5%), -2.57 (10%)\n",
      "Null Hypothesis: The process contains a unit root.\n",
      "Alternative Hypothesis: The process is weakly stationary.\n"
     ]
    }
   ],
   "source": [
    "#固定beta\n",
    "residual_all=prcdf['Fdt_J'] - beta * prcdf['Fdt_JM'] - alpha\n",
    "residual_all.plot()\n",
    "plt.show()\n",
    "print(ADF(residual_all))\n",
    "print(ADF(residual_all.loc['2018-12-28':]))"
   ]
  },
  {
   "cell_type": "markdown",
   "id": "4e5a7a10",
   "metadata": {},
   "source": [
    "在训练数据上表现良好，在测试数据上固定beta表现一般。需要动态调整beta！"
   ]
  },
  {
   "cell_type": "markdown",
   "id": "68567b85",
   "metadata": {},
   "source": [
    "ARIMA模型预测的基本思想：  \n",
    "（一）根据时间序列的散点图、自相关函数和偏自相关函数图以ADF单位根检验其方差、趋势及其季节性变化规律，对序列的平稳性进行识别。一般来讲，经济运行的时间序列都不是平稳序列。  \n",
    "（二）对非平稳序列进行平稳化处理。如果数据序列是非平稳的，并存在一定的增长或下降趋势，则需要对数据进行差分处理，如果数据存在异方差，则需对数据进行技术处理，直到处理后的数据的自相关函数值和偏相关函数值无显著地异于零。  \n",
    "（三）根据时间序列模型的识别规则，建立相应的模型。若平稳序列的偏相关函数是截尾的，而自相关函数是拖尾的，可断定序列适合AR模型；若平稳序列的偏相关函数是拖尾的，而自相关函数是截尾的，则可断定序列适合MA模型；若平稳序列的偏相关函数和自相关函数均是拖尾的，则序列适合ARMA模型。  \n",
    "（四）进行参数估计，检验是否具有统计意义。  \n",
    "（五）进行假设检验，诊断残差序列是否为白噪声。  \n",
    "（六）利用已通过检验的模型进行预测分析。"
   ]
  },
  {
   "cell_type": "code",
   "execution_count": 12,
   "id": "0e62bd07",
   "metadata": {
    "scrolled": true
   },
   "outputs": [
    {
     "name": "stdout",
     "output_type": "stream",
     "text": [
      "                               SARIMAX Results                                \n",
      "==============================================================================\n",
      "Dep. Variable:                      y   No. Observations:                 1408\n",
      "Model:                 ARIMA(1, 0, 0)   Log Likelihood                3664.222\n",
      "Date:                Thu, 24 Nov 2022   AIC                          -7322.444\n",
      "Time:                        20:44:51   BIC                          -7306.694\n",
      "Sample:                             0   HQIC                         -7316.558\n",
      "                               - 1408                                         \n",
      "Covariance Type:                  opg                                         \n",
      "==============================================================================\n",
      "                 coef    std err          z      P>|z|      [0.025      0.975]\n",
      "------------------------------------------------------------------------------\n",
      "const      -8.416e-07      0.017  -4.85e-05      1.000      -0.034       0.034\n",
      "ar.L1          0.9738      0.005    184.475      0.000       0.963       0.984\n",
      "sigma2         0.0003   3.65e-06     87.942      0.000       0.000       0.000\n",
      "===================================================================================\n",
      "Ljung-Box (L1) (Q):                  19.02   Jarque-Bera (JB):             49948.67\n",
      "Prob(Q):                              0.00   Prob(JB):                         0.00\n",
      "Heteroskedasticity (H):               2.20   Skew:                             1.38\n",
      "Prob(H) (two-sided):                  0.00   Kurtosis:                        32.05\n",
      "===================================================================================\n",
      "\n",
      "Warnings:\n",
      "[1] Covariance matrix calculated using the outer product of gradients (complex-step).\n"
     ]
    }
   ],
   "source": [
    "#ARIMA模型，可以结合Kalman滤波进行跨品种期货套利\n",
    "from statsmodels.tsa.arima.model import ARIMA\n",
    "armodel = ARIMA(residual.values, order=(1,0,0)).fit()\n",
    "print(armodel.summary())"
   ]
  },
  {
   "cell_type": "markdown",
   "id": "def7196b",
   "metadata": {},
   "source": [
    "### 3 Kalman滤波\n",
    "https://www.quantstart.com/articles/Dynamic-Hedge-Ratio-Between-ETF-Pairs-Using-the-Kalman-Filter/"
   ]
  },
  {
   "cell_type": "code",
   "execution_count": 13,
   "id": "76b8f1cd",
   "metadata": {},
   "outputs": [],
   "source": [
    "#import pandas_datareader.data as web\n",
    "from pykalman import KalmanFilter\n",
    "#计算J对JM的价格回归的斜率和回归的截距\n",
    "def calc_slope_intercept_kalman(prcdf):       \n",
    "    delta = 1e-5 # 控制过渡协方差矩阵的噪音\n",
    "    trans_cov = delta / (1 - delta) * np.eye(2) # 过渡协方差矩阵\n",
    "    # 创建观测矩阵：一个一维矩阵存储JM的值\n",
    "    obs_mat = np.vstack([prcdf['Fdt_JM'],np.ones(prcdf['Fdt_JM'].shape)]).T[:,np.newaxis]\n",
    "\n",
    "    # 创建卡尔曼滤波器实例\n",
    "    kf = KalmanFilter(\n",
    "    n_dim_obs=1,\n",
    "    n_dim_state=2,#状态，这里是2，要求的是线性回归的斜率和截距\n",
    "    initial_state_mean=np.zeros(2),#斜率和截距的状态均值初始化为0\n",
    "    initial_state_covariance=np.ones((2, 2)),\n",
    "    transition_matrices=np.eye(2),\n",
    "    observation_matrices=obs_mat,#观测矩阵\n",
    "    observation_covariance=1.0,\n",
    "    transition_covariance=trans_cov\n",
    "    )\n",
    "\n",
    "    # 调用过滤器。计算截距和斜率的状态。\n",
    "    state_means, state_covs = kf.filter(prcdf['Fdt_J'].values)\n",
    "    return state_means, state_covs\n",
    "\n",
    "def draw_slope_intercept_changes(prcdf, state_means):\n",
    "    #从卡尔曼滤波器计算结果，绘制斜率和截距的变化\n",
    "    #slope斜率beta，intercept截距alpha\n",
    "    pd.DataFrame(\\\n",
    "        dict(slope=state_means[:,0],intercept=state_means[:,1]),\\\n",
    "        index=prcdf.index)\\\n",
    "    .plot(subplots=True)\n",
    "    plt.show()\n"
   ]
  },
  {
   "cell_type": "code",
   "execution_count": 14,
   "id": "53a5a45a",
   "metadata": {},
   "outputs": [
    {
     "data": {
      "image/png": "[encoded data removed]",
      "text/plain": [
       "<Figure size 432x288 with 2 Axes>"
      ]
     },
     "metadata": {
      "needs_background": "light"
     },
     "output_type": "display_data"
    }
   ],
   "source": [
    "state_means, state_covs = calc_slope_intercept_kalman(prcdf)\n",
    "draw_slope_intercept_changes(prcdf,state_means)"
   ]
  },
  {
   "cell_type": "code",
   "execution_count": 15,
   "id": "9fb99a0b",
   "metadata": {},
   "outputs": [],
   "source": [
    "prcdf['beta'] = state_means[:,0]\n",
    "prcdf['alpha'] = state_means[:,1]\n",
    "#std\n",
    "#prcdf['std'] = \n",
    "prcdf['spread'] = prcdf['Fdt_J'] - prcdf['beta']*prcdf['Fdt_JM'] - prcdf['alpha']"
   ]
  },
  {
   "cell_type": "code",
   "execution_count": 16,
   "id": "2618d7b8",
   "metadata": {},
   "outputs": [
    {
     "data": {
      "image/png": "[encoded data removed]",
      "text/plain": [
       "<Figure size 432x288 with 1 Axes>"
      ]
     },
     "metadata": {
      "needs_background": "light"
     },
     "output_type": "display_data"
    }
   ],
   "source": [
    "prcdf['spread'].plot()\n",
    "plt.show()"
   ]
  },
  {
   "cell_type": "markdown",
   "id": "53c714b8",
   "metadata": {},
   "source": [
    "直观可见spread为平稳的均值回复过程。"
   ]
  },
  {
   "cell_type": "code",
   "execution_count": 17,
   "id": "ff38b97c",
   "metadata": {},
   "outputs": [
    {
     "name": "stdout",
     "output_type": "stream",
     "text": [
      "2.6847801235174388e-09\n",
      "9.153075489963251e-05\n"
     ]
    }
   ],
   "source": [
    "print(ADF(prcdf['spread']).pvalue)\n",
    "print(ADF(prcdf['spread'].loc['2018-12-28':]).pvalue)"
   ]
  },
  {
   "cell_type": "markdown",
   "id": "d0924d88",
   "metadata": {},
   "source": [
    "动态估计的beta，平稳性检验其实没有意义。"
   ]
  },
  {
   "cell_type": "markdown",
   "id": "2510f64d",
   "metadata": {},
   "source": [
    "#### 4 交易过程"
   ]
  },
  {
   "cell_type": "code",
   "execution_count": 18,
   "id": "7d5dca0b",
   "metadata": {},
   "outputs": [],
   "source": [
    "#生成仓位状态position，其中data需包括spread\n",
    "\n",
    "def tradetest(df1,multiplier,std):\n",
    "    df2 = df1.copy()\n",
    "    start_date = '2013-03-22'\n",
    "    #生成指标，简单处理，使用固定区间\n",
    "    df2['r_mean'] = 0\n",
    "    df2['r_std'] = std\n",
    "    #生成多空信号\n",
    "    df2['low_band'] = df2['r_mean']-multiplier*df2['r_std']\n",
    "    df2['high_band'] = df2['r_mean']+multiplier*df2['r_std']\n",
    "          \n",
    "    '''plt.rcParams['figure.figsize'] = (12, 6)\n",
    "    plt.plot(df2.index,df2['spread'])\n",
    "    plt.plot(df2.index,df2['low_band'])\n",
    "    plt.plot(df2.index,df2['high_band'])\n",
    "    plt.show()'''\n",
    "       \n",
    "    #生成仓位信号\n",
    "    df2['longs_Entry'] = df2['spread']<df2['low_band']\n",
    "    df2['longs_Exit'] = df2['spread']>df2['r_mean']  #0\n",
    "\n",
    "    df2['shorts_Entry'] = df2['spread']>df2['high_band']\n",
    "    df2['shorts_Exit'] = df2['spread']<df2['r_mean']  #0\n",
    "    #生成仓位\n",
    "    df2.loc[start_date,'Long'] = 0\n",
    "    df2.loc[df2['longs_Entry'],'Long'] = 1\n",
    "    df2.loc[df2['longs_Exit'],'Long'] = 0\n",
    "    \n",
    "    df2.loc[start_date,'Short'] = 0\n",
    "    df2.loc[df2['shorts_Entry'],'Short'] = -1\n",
    "    df2.loc[df2['shorts_Exit'],'Short'] = 0\n",
    "    #补全仓位状态\n",
    "    df2['newLong'] = df2['Long'].fillna(method='ffill')\n",
    "    df2['newShort'] = df2['Short'].fillna(method='ffill')\n",
    "    #持仓\n",
    "    df2['position'] = df2['newLong'] + df2['newShort']\n",
    "    #输出\n",
    "    df3 = df1.copy()\n",
    "    df3['position'] = df2['position']\n",
    "    return df3"
   ]
  },
  {
   "cell_type": "code",
   "execution_count": 19,
   "id": "9e91ca39",
   "metadata": {
    "scrolled": true
   },
   "outputs": [
    {
     "data": {
      "text/html": [
       "<div>\n",
       "<style scoped>\n",
       "    .dataframe tbody tr th:only-of-type {\n",
       "        vertical-align: middle;\n",
       "    }\n",
       "\n",
       "    .dataframe tbody tr th {\n",
       "        vertical-align: top;\n",
       "    }\n",
       "\n",
       "    .dataframe thead th {\n",
       "        text-align: right;\n",
       "    }\n",
       "</style>\n",
       "<table border=\"1\" class=\"dataframe\">\n",
       "  <thead>\n",
       "    <tr style=\"text-align: right;\">\n",
       "      <th></th>\n",
       "      <th>Fdt_J</th>\n",
       "      <th>Fdt_JM</th>\n",
       "      <th>beta</th>\n",
       "      <th>alpha</th>\n",
       "      <th>spread</th>\n",
       "      <th>position</th>\n",
       "    </tr>\n",
       "    <tr>\n",
       "      <th>Trddt</th>\n",
       "      <th></th>\n",
       "      <th></th>\n",
       "      <th></th>\n",
       "      <th></th>\n",
       "      <th></th>\n",
       "      <th></th>\n",
       "    </tr>\n",
       "  </thead>\n",
       "  <tbody>\n",
       "    <tr>\n",
       "      <th>2013-03-22</th>\n",
       "      <td>7.431892</td>\n",
       "      <td>7.154615</td>\n",
       "      <td>0.897870</td>\n",
       "      <td>0.897870</td>\n",
       "      <td>0.110106</td>\n",
       "      <td>-1.0</td>\n",
       "    </tr>\n",
       "    <tr>\n",
       "      <th>2013-03-25</th>\n",
       "      <td>7.430707</td>\n",
       "      <td>7.151485</td>\n",
       "      <td>0.904672</td>\n",
       "      <td>0.904669</td>\n",
       "      <td>0.056289</td>\n",
       "      <td>-1.0</td>\n",
       "    </tr>\n",
       "    <tr>\n",
       "      <th>2013-03-26</th>\n",
       "      <td>7.425358</td>\n",
       "      <td>7.134891</td>\n",
       "      <td>0.907356</td>\n",
       "      <td>0.907348</td>\n",
       "      <td>0.044124</td>\n",
       "      <td>-1.0</td>\n",
       "    </tr>\n",
       "    <tr>\n",
       "      <th>2013-03-27</th>\n",
       "      <td>7.419381</td>\n",
       "      <td>7.153834</td>\n",
       "      <td>0.907998</td>\n",
       "      <td>0.907989</td>\n",
       "      <td>0.015723</td>\n",
       "      <td>-1.0</td>\n",
       "    </tr>\n",
       "    <tr>\n",
       "      <th>2013-03-28</th>\n",
       "      <td>7.413367</td>\n",
       "      <td>7.142037</td>\n",
       "      <td>0.908500</td>\n",
       "      <td>0.908488</td>\n",
       "      <td>0.016342</td>\n",
       "      <td>-1.0</td>\n",
       "    </tr>\n",
       "    <tr>\n",
       "      <th>...</th>\n",
       "      <td>...</td>\n",
       "      <td>...</td>\n",
       "      <td>...</td>\n",
       "      <td>...</td>\n",
       "      <td>...</td>\n",
       "      <td>...</td>\n",
       "    </tr>\n",
       "    <tr>\n",
       "      <th>2022-11-15</th>\n",
       "      <td>7.903042</td>\n",
       "      <td>7.660585</td>\n",
       "      <td>0.914707</td>\n",
       "      <td>0.915949</td>\n",
       "      <td>-0.020097</td>\n",
       "      <td>0.0</td>\n",
       "    </tr>\n",
       "    <tr>\n",
       "      <th>2022-11-16</th>\n",
       "      <td>7.915713</td>\n",
       "      <td>7.677864</td>\n",
       "      <td>0.914634</td>\n",
       "      <td>0.915942</td>\n",
       "      <td>-0.022665</td>\n",
       "      <td>0.0</td>\n",
       "    </tr>\n",
       "    <tr>\n",
       "      <th>2022-11-17</th>\n",
       "      <td>7.935408</td>\n",
       "      <td>7.680176</td>\n",
       "      <td>0.914618</td>\n",
       "      <td>0.915940</td>\n",
       "      <td>-0.004960</td>\n",
       "      <td>0.0</td>\n",
       "    </tr>\n",
       "    <tr>\n",
       "      <th>2022-11-18</th>\n",
       "      <td>7.929487</td>\n",
       "      <td>7.683404</td>\n",
       "      <td>0.914575</td>\n",
       "      <td>0.915936</td>\n",
       "      <td>-0.013497</td>\n",
       "      <td>0.0</td>\n",
       "    </tr>\n",
       "    <tr>\n",
       "      <th>2022-11-21</th>\n",
       "      <td>7.931824</td>\n",
       "      <td>7.691657</td>\n",
       "      <td>0.914516</td>\n",
       "      <td>0.915931</td>\n",
       "      <td>-0.018252</td>\n",
       "      <td>0.0</td>\n",
       "    </tr>\n",
       "  </tbody>\n",
       "</table>\n",
       "<p>2351 rows × 6 columns</p>\n",
       "</div>"
      ],
      "text/plain": [
       "               Fdt_J    Fdt_JM      beta     alpha    spread  position\n",
       "Trddt                                                                 \n",
       "2013-03-22  7.431892  7.154615  0.897870  0.897870  0.110106      -1.0\n",
       "2013-03-25  7.430707  7.151485  0.904672  0.904669  0.056289      -1.0\n",
       "2013-03-26  7.425358  7.134891  0.907356  0.907348  0.044124      -1.0\n",
       "2013-03-27  7.419381  7.153834  0.907998  0.907989  0.015723      -1.0\n",
       "2013-03-28  7.413367  7.142037  0.908500  0.908488  0.016342      -1.0\n",
       "...              ...       ...       ...       ...       ...       ...\n",
       "2022-11-15  7.903042  7.660585  0.914707  0.915949 -0.020097       0.0\n",
       "2022-11-16  7.915713  7.677864  0.914634  0.915942 -0.022665       0.0\n",
       "2022-11-17  7.935408  7.680176  0.914618  0.915940 -0.004960       0.0\n",
       "2022-11-18  7.929487  7.683404  0.914575  0.915936 -0.013497       0.0\n",
       "2022-11-21  7.931824  7.691657  0.914516  0.915931 -0.018252       0.0\n",
       "\n",
       "[2351 rows x 6 columns]"
      ]
     },
     "execution_count": 19,
     "metadata": {},
     "output_type": "execute_result"
    }
   ],
   "source": [
    "multiplier=1\n",
    "std = 0.05\n",
    "tradingdf = tradetest(prcdf,multiplier,std)\n",
    "#tradingdf[tradingdf['position']==1]\n",
    "tradingdf"
   ]
  },
  {
   "cell_type": "code",
   "execution_count": 20,
   "id": "d667f651",
   "metadata": {},
   "outputs": [],
   "source": [
    "tradingdf['spread_diff'] = tradingdf['spread'] - tradingdf['spread'].shift(1)"
   ]
  },
  {
   "cell_type": "code",
   "execution_count": 21,
   "id": "e21438a4",
   "metadata": {},
   "outputs": [
    {
     "data": {
      "image/png": "[encoded data removed]",
      "text/plain": [
       "<Figure size 432x288 with 1 Axes>"
      ]
     },
     "metadata": {
      "needs_background": "light"
     },
     "output_type": "display_data"
    }
   ],
   "source": [
    "#当期收益由上一期position決定\n",
    "#不会算return，直接用对数价差了\n",
    "ret = tradingdf['position'].shift(1)*(tradingdf['spread'] - tradingdf['spread'].shift(1))\n",
    "ret.cumsum().plot()\n",
    "plt.show()"
   ]
  },
  {
   "cell_type": "code",
   "execution_count": 22,
   "id": "47b59a64",
   "metadata": {},
   "outputs": [
    {
     "data": {
      "image/png": "[encoded data removed]",
      "text/plain": [
       "<Figure size 432x288 with 1 Axes>"
      ]
     },
     "metadata": {
      "needs_background": "light"
     },
     "output_type": "display_data"
    }
   ],
   "source": [
    "tradingdf['beta'].plot()\n",
    "plt.show()"
   ]
  },
  {
   "cell_type": "code",
   "execution_count": 24,
   "id": "7bcc49f0",
   "metadata": {},
   "outputs": [
    {
     "data": {
      "image/png": "[encoded data removed]",
      "text/plain": [
       "<Figure size 432x288 with 1 Axes>"
      ]
     },
     "metadata": {
      "needs_background": "light"
     },
     "output_type": "display_data"
    }
   ],
   "source": [
    "tradingdf['spread'].plot()\n",
    "plt.show()"
   ]
  },
  {
   "cell_type": "code",
   "execution_count": null,
   "id": "0db806fb",
   "metadata": {},
   "outputs": [],
   "source": []
  }
 ],
 "metadata": {
  "kernelspec": {
   "display_name": "Python 3 (ipykernel)",
   "language": "python",
   "name": "python3"
  },
  "language_info": {
   "codemirror_mode": {
    "name": "ipython",
    "version": 3
   },
   "file_extension": ".py",
   "mimetype": "text/x-python",
   "name": "python",
   "nbconvert_exporter": "python",
   "pygments_lexer": "ipython3",
   "version": "3.9.12"
  }
 },
 "nbformat": 4,
 "nbformat_minor": 5
}
